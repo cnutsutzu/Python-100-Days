{
  "nbformat": 4,
  "nbformat_minor": 0,
  "metadata": {
    "colab": {
      "name": "Untitled1.ipynb",
      "provenance": [],
      "include_colab_link": true
    },
    "kernelspec": {
      "name": "python3",
      "display_name": "Python 3"
    }
  },
  "cells": [
    {
      "cell_type": "markdown",
      "metadata": {
        "id": "view-in-github",
        "colab_type": "text"
      },
      "source": [
        "<a href=\"https://colab.research.google.com/github/cnutsutzu/Python-100-Days/blob/master/Test01-15%20.ipynb\" target=\"_parent\"><img src=\"https://colab.research.google.com/assets/colab-badge.svg\" alt=\"Open In Colab\"/></a>"
      ]
    },
    {
      "cell_type": "code",
      "metadata": {
        "id": "wvmoyMHWBKS6",
        "colab_type": "code",
        "colab": {}
      },
      "source": [
        "\"\"\"\n",
        "第一个Python程序 - hello, world!\n",
        "向伟大的Dennis M. Ritchie先生致敬\n",
        "Version: 0.1\n",
        "Author: 骆昊\n",
        "Date: 2018-02-26\n",
        "请将该文件命名为hello.py\n",
        "使用Windows的小伙伴可以在命令行提示下通过下面的命令运行该程序\n",
        "python hello.py\n",
        "对于使用Linux或macOS的小伙伴可以打开终端并键入下面的命令来运行程序\n",
        "python3 hello.py\n",
        "\"\"\"\n",
        "\n",
        "print('hello, world!')\n",
        "# print(\"你好,世界！\")\n",
        "print('你好', '世界')\n",
        "print('hello', 'world', sep=', ', end='!')\n",
        "print('goodbye, world', end='!\\n')"
      ],
      "execution_count": 0,
      "outputs": []
    }
  ]
}